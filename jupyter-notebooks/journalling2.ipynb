{
 "cells": [
  {
   "cell_type": "markdown",
   "metadata": {},
   "source": [
    "# Demonstrating PDF Journalling - Part 2\n",
    "Journalling updates to a PDF is supported with MuPDF v1.19.*.\n",
    "\n",
    "For a basic notebook session, see `journalling1.ipynb`.\n",
    "\n",
    "In this notebook we demonstrate how to undo some updates and then continue with some other updates."
   ]
  },
  {
   "cell_type": "code",
   "execution_count": null,
   "metadata": {},
   "outputs": [],
   "source": [
    "import fitz\n",
    "from pprint import pprint\n",
    "\n",
    "if tuple(map(int, fitz.VersionBind.split(\".\"))) < (1, 19, 0):\n",
    "    raise ValueError(\"Need PyMuPDF v1.19.0 or higher\")\n",
    "\n",
    "doc = fitz.open()  # work with an empty PDF\n",
    "doc.journal_enable()  # enable journalling for it\n",
    "doc.journal_start_op(\"new page\")\n",
    "page = doc.new_page()\n",
    "doc.journal_stop_op()\n",
    "# insert 5 text lines, each within its own operation:\n",
    "for i in range(5):\n",
    "    doc.journal_start_op(\"insert-%i\" % i)\n",
    "    page.insert_text((100, 100 + 20*i), \"This is line %i.\" % i)\n",
    "    doc.journal_stop_op()\n",
    "# show page content:\n",
    "print(page.get_text())"
   ]
  },
  {
   "cell_type": "markdown",
   "metadata": {},
   "source": [
    "Show journal status information: number of current operation, total operation count."
   ]
  },
  {
   "cell_type": "code",
   "execution_count": null,
   "metadata": {},
   "outputs": [],
   "source": [
    "doc.journal_position()"
   ]
  },
  {
   "cell_type": "markdown",
   "metadata": {},
   "source": [
    "Of the 6 operations, we undo 3 ..."
   ]
  },
  {
   "cell_type": "code",
   "execution_count": null,
   "metadata": {},
   "outputs": [],
   "source": [
    "for i in range(3):  # revert last three operations\n",
    "    doc.journal_undo()\n",
    "# look again at position in journal\n",
    "doc.journal_position()"
   ]
  },
  {
   "cell_type": "markdown",
   "metadata": {},
   "source": [
    "We will perform a different update now. Note, that this will lead to a permanent removal of the three previously undone updates."
   ]
  },
  {
   "cell_type": "code",
   "execution_count": null,
   "metadata": {},
   "outputs": [],
   "source": [
    "doc.journal_start_op(\"Draw some line\")\n",
    "page.draw_line((100,150), (200,150), color=(1,0,0), width=5)\n",
    "doc.journal_stop_op()\n",
    "# look at jornal status\n",
    "doc.journal_position()\n"
   ]
  },
  {
   "cell_type": "code",
   "execution_count": null,
   "metadata": {},
   "outputs": [],
   "source": [
    "doc.journal_can_do()"
   ]
  },
  {
   "cell_type": "code",
   "execution_count": null,
   "metadata": {},
   "outputs": [],
   "source": [
    "print(page.get_text())  # only 2 text lines are left"
   ]
  },
  {
   "cell_type": "code",
   "execution_count": null,
   "metadata": {},
   "outputs": [],
   "source": [
    "pprint(page.get_drawings())  # shows that we have drawn a line"
   ]
  }
 ],
 "metadata": {
  "interpreter": {
   "hash": "dacf40ba69c4e52f13991c9802a7e3e4c13661a31627ca571217c8b5d093ad33"
  },
  "kernelspec": {
   "display_name": "Python 3.9.6 64-bit",
   "name": "python3"
  },
  "language_info": {
   "codemirror_mode": {
    "name": "ipython",
    "version": 3
   },
   "file_extension": ".py",
   "mimetype": "text/x-python",
   "name": "python",
   "nbconvert_exporter": "python",
   "pygments_lexer": "ipython3",
   "version": "3.9.6"
  },
  "orig_nbformat": 4
 },
 "nbformat": 4,
 "nbformat_minor": 2
}
