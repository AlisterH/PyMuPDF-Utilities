{
 "cells": [
  {
   "cell_type": "markdown",
   "metadata": {},
   "source": [
    "# Demonstrating PDF Journalling - Part 1: Basics\n",
    "Journalling updates to a PDF is supported with MuPDF v1.19.*.\n",
    "\n",
    "Journalling is a logging mechanism which permits either **reverting** or **re-applying** changes to a PDF.\n",
    "\n",
    "Similar to LUWs \"Logical Units of Work\" in modern database systems, one can group a set of updates into an \"operation\". In MuPDF journalling, an *operation* plays the role of a LUW."
   ]
  },
  {
   "cell_type": "code",
   "execution_count": null,
   "metadata": {},
   "outputs": [],
   "source": [
    "import fitz\n",
    "\n",
    "if tuple(map(int, fitz.VersionBind.split(\".\"))) < (1, 19, 0):\n",
    "    raise ValueError(\"Need PyMuPDF v1.19.0 or higher\")\n",
    "\n",
    "doc = fitz.open()  # work with an empty PDF\n",
    "doc.journal_enable()  # enable journalling for it"
   ]
  },
  {
   "cell_type": "markdown",
   "metadata": {},
   "source": [
    "After journalling is enabled:\n",
    "\n",
    "> **_All_** updates are logged and must be executed within the range of some **operation**.\n",
    "\n",
    "So we first try an update without having an active operation:"
   ]
  },
  {
   "cell_type": "code",
   "execution_count": null,
   "metadata": {},
   "outputs": [],
   "source": [
    "try:\n",
    "    page = doc.new_page()\n",
    "except RuntimeError:\n",
    "    print(\"This does not work without an active operation!\")\n"
   ]
  },
  {
   "cell_type": "code",
   "execution_count": null,
   "metadata": {},
   "outputs": [],
   "source": [
    "doc.journal_start_op(\"op1\")  # define start of an operation\n",
    "page = doc.new_page()\n",
    "doc.journal_stop_op()  # define stop of operation"
   ]
  },
  {
   "cell_type": "markdown",
   "metadata": {},
   "source": [
    "This time it worked: we have a page. Now insert three lines of text - each within its own operation, so they can be individually undone (rolled back)."
   ]
  },
  {
   "cell_type": "code",
   "execution_count": null,
   "metadata": {},
   "outputs": [],
   "source": [
    "for i in range(3):\n",
    "    doc.journal_start_op(\"Line-%i\" % i)\n",
    "    # insert next line 20 points below previous one\n",
    "    page.insert_text((100, 100 + 20*i), \"This is line %i.\" % i)\n",
    "    doc.journal_stop_op()"
   ]
  },
  {
   "cell_type": "markdown",
   "metadata": {},
   "source": [
    "Now let us have a look at some journal information.\n",
    "1. What is our current operation number and total number of operations?"
   ]
  },
  {
   "cell_type": "code",
   "execution_count": null,
   "metadata": {},
   "outputs": [],
   "source": [
    "doc.journal_position()  # returns the tuple: (current op number, total op count)"
   ]
  },
  {
   "cell_type": "markdown",
   "metadata": {},
   "source": [
    "2. What journalling activity can we do at this point: undo? redo?"
   ]
  },
  {
   "cell_type": "code",
   "execution_count": null,
   "metadata": {},
   "outputs": [],
   "source": [
    "doc.journal_can_do()"
   ]
  },
  {
   "cell_type": "markdown",
   "metadata": {},
   "source": [
    "Only undo activities are possible, currently. Let us try one, but first we look at what is on the page:"
   ]
  },
  {
   "cell_type": "code",
   "execution_count": null,
   "metadata": {},
   "outputs": [],
   "source": [
    "print(page.get_text())  # this should show three lines of text"
   ]
  },
  {
   "cell_type": "markdown",
   "metadata": {},
   "source": [
    "Undo an operation and display journalling status information like above:"
   ]
  },
  {
   "cell_type": "code",
   "execution_count": null,
   "metadata": {},
   "outputs": [],
   "source": [
    "doc.journal_undo()  # undo an operation\n",
    "doc.journal_position()  # where are we in the journal?\n"
   ]
  },
  {
   "cell_type": "code",
   "execution_count": null,
   "metadata": {},
   "outputs": [],
   "source": [
    "doc.journal_can_do()  # what can we do now?"
   ]
  },
  {
   "cell_type": "markdown",
   "metadata": {},
   "source": [
    "Now confirm what happened to the page content. If all worked fine, we should see only 2 lines of text."
   ]
  },
  {
   "cell_type": "code",
   "execution_count": null,
   "metadata": {},
   "outputs": [],
   "source": [
    "print(page.get_text())"
   ]
  },
  {
   "cell_type": "markdown",
   "metadata": {},
   "source": [
    "Good! Last text insertion was reverted. We change our mind again and redo (re-apply) the undone operation."
   ]
  },
  {
   "cell_type": "code",
   "execution_count": null,
   "metadata": {},
   "outputs": [],
   "source": [
    "doc.journal_redo()  # redo reverted operation\n",
    "doc.journal_position()"
   ]
  },
  {
   "cell_type": "code",
   "execution_count": null,
   "metadata": {},
   "outputs": [],
   "source": [
    "doc.journal_can_do()"
   ]
  },
  {
   "cell_type": "markdown",
   "metadata": {},
   "source": [
    "Confirm that we have three text lines again:"
   ]
  },
  {
   "cell_type": "code",
   "execution_count": null,
   "metadata": {},
   "outputs": [],
   "source": [
    "print(page.get_text())"
   ]
  },
  {
   "cell_type": "markdown",
   "metadata": {},
   "source": [
    "The journal data itself is kept in an area maintained by MuPDF code. The journal can be saved to a file or to a Python file-like object with a binary output option. If journalled updates are executed against an **_existing PDF_** (not a new and empty one as we did here), the journal file, together with a specially saved PDF \"snapshot\" can be used to continue updating that PDF - including undo / redo operations.\n",
    "\n",
    "Here we display our update session to see the type of information stored."
   ]
  },
  {
   "cell_type": "code",
   "execution_count": null,
   "metadata": {},
   "outputs": [],
   "source": [
    "import io\n",
    "fp = io.BytesIO()  # we need a file object with binary output capability\n",
    "doc.journal_save(fp)  # save journal file\n",
    "# display the file content (decode the bytes object for a nicer look)\n",
    "print(fp.getvalue().decode())"
   ]
  }
 ],
 "metadata": {
  "interpreter": {
   "hash": "dacf40ba69c4e52f13991c9802a7e3e4c13661a31627ca571217c8b5d093ad33"
  },
  "kernelspec": {
   "display_name": "Python 3.9.6 64-bit",
   "name": "python3"
  },
  "language_info": {
   "codemirror_mode": {
    "name": "ipython",
    "version": 3
   },
   "file_extension": ".py",
   "mimetype": "text/x-python",
   "name": "python",
   "nbconvert_exporter": "python",
   "pygments_lexer": "ipython3",
   "version": "3.9.6"
  },
  "orig_nbformat": 4
 },
 "nbformat": 4,
 "nbformat_minor": 2
}
