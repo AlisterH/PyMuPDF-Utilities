{
 "cells": [
  {
   "cell_type": "markdown",
   "metadata": {},
   "source": [
    "# OCR Demo: Full vs. Partial OCR of Pages\n",
    "In v1.19.1 of PyMuPDF there are two choices of OCR-ing a document page: **_full_** or **_partial_**. In both cases, a `TextPage` object will be created - available for text extractions and text searches as usual. All these text processing methods have been extended with the new parameter `textpage` to allow referencing the OCR result.\n",
    "* A **_full OCR_** makes a photo of the page with the desired resolution and interprets it.\n",
    "   - Any existing text on the page will be re-interpreted and be delivered together with text recognized in images on the page. All text will have been assigned Tesseract's \"GlyphlessFont\" as the font.\n",
    "   - Only the visible text will be present after OCR. Text covered by images will be lost.\n",
    "   - Depending on the overall text amount, the chosen DPI and the number of languages used on the page, it may take up to around 2 seconds to perform the OCR. \n",
    "* A **_partial OCR_** interprets only the images displayed by the page.\n",
    "   - Existing \"normal\" text will be kept with all its properties (font name, font size, position, etc.).\n",
    "   - The OCR precision cannot (and need not) be influenced, because the original image quality / resolution stored in the document is always taken. The dpi parameter is ignored.\n",
    "   - The resulting `TextPage` will contain a **_mixture of normal and OCR text_**.\n",
    "   - For obvious reasons, the execution time of this alternative tends to be much lower than that of a full OCR."
   ]
  },
  {
   "cell_type": "code",
   "execution_count": 14,
   "metadata": {},
   "outputs": [],
   "source": [
    "import fitz\n",
    "\n",
    "if tuple(map(int, fitz.VersionBind.split(\".\"))) < (1, 19, 1):\n",
    "    raise ValueError(\"Need at least v1.19.1 of PyMuPDF\")\n",
    "\n",
    "# open a document with normal text and two overlapping images\n",
    "doc = fitz.open(\"partial-ocr.pdf\")\n",
    "page = doc[0]"
   ]
  },
  {
   "cell_type": "markdown",
   "metadata": {},
   "source": [
    "First make a **_full page OCR_**. Please take a look at the document and note the two little text lines. They are contained in a separate, non-transparent image, which covers some text of the larger image underneath it."
   ]
  },
  {
   "cell_type": "code",
   "execution_count": 15,
   "metadata": {},
   "outputs": [
    {
     "name": "stdout",
     "output_type": "stream",
     "text": [
      "PDF\n",
      "PyMuPDF — the Python\n",
      "soe urs ton na\n",
      "luPDF\n",
      "PyMuPDF Documentation\n",
      "Release 1.19.0\n",
      "Jorj X. McKie\n",
      "Oct 17, 2021\n",
      "\n"
     ]
    }
   ],
   "source": [
    "full_tp = page.get_textpage_ocr(flags=0, dpi=300, full=True)  # make the TextPage object. It does all the OCR.\n",
    "# now look what we have got\n",
    "print(page.get_text(textpage=full_tp))"
   ]
  },
  {
   "cell_type": "markdown",
   "metadata": {},
   "source": [
    "Or blockwise output, getting rid of some of the unwanted linebreaks:"
   ]
  },
  {
   "cell_type": "code",
   "execution_count": 16,
   "metadata": {},
   "outputs": [
    {
     "name": "stdout",
     "output_type": "stream",
     "text": [
      "PDF \n",
      "PyMuPDF — the Python \n",
      "soe urs ton na luPDF PyMuPDF Documentation Release 1.19.0 \n",
      "Jorj X. McKie \n",
      "Oct 17, 2021 \n"
     ]
    }
   ],
   "source": [
    "blocks = page.get_text(\"blocks\", textpage=full_tp)\n",
    "for b in blocks:\n",
    "    print(b[4].replace(\"\\n\", \" \"))"
   ]
  },
  {
   "cell_type": "markdown",
   "metadata": {},
   "source": [
    "Not very impressive either way: the original text (last 4 lines) was detected ok, but text in the pictures looks quite garbled ... not to our surprise, really.\n",
    "\n",
    "Please note, that the OCR process scans the page from top-left to bottom-right - which therefore also is the sequence of the extraction.\n",
    "\n",
    "This is what we get when looking at details of each text span:"
   ]
  },
  {
   "cell_type": "code",
   "execution_count": 17,
   "metadata": {},
   "outputs": [
    {
     "name": "stdout",
     "output_type": "stream",
     "text": [
      "GlyphLessFont IRect(222, 188, 297, 221) PDF\n",
      "GlyphLessFont IRect(282, 273, 390, 298) PyMuPDF\n",
      "GlyphLessFont IRect(389, 273, 411, 298)  —\n",
      "GlyphLessFont IRect(410, 273, 453, 298)  the\n",
      "GlyphLessFont IRect(452, 273, 540, 298)  Python\n",
      "GlyphLessFont IRect(283, 300, 307, 336) soe\n",
      "GlyphLessFont IRect(306, 300, 331, 336)  urs\n",
      "GlyphLessFont IRect(330, 300, 363, 336)  ton\n",
      "GlyphLessFont IRect(362, 300, 391, 336)  na\n",
      "GlyphLessFont IRect(457, 300, 521, 336) luPDF\n",
      "GlyphLessFont IRect(239, 348, 352, 373) PyMuPDF\n",
      "GlyphLessFont IRect(351, 348, 538, 373)  Documentation\n",
      "GlyphLessFont IRect(423, 382, 488, 396) Release\n",
      "GlyphLessFont IRect(487, 382, 541, 396)  1.19.0\n",
      "GlyphLessFont IRect(432, 478, 463, 496) Jorj\n",
      "GlyphLessFont IRect(462, 478, 484, 496)  X.\n",
      "GlyphLessFont IRect(483, 478, 540, 496)  McKie\n",
      "GlyphLessFont IRect(470, 641, 489, 656) Oct\n",
      "GlyphLessFont IRect(488, 641, 510, 656)  17,\n",
      "GlyphLessFont IRect(509, 641, 538, 656)  2021\n"
     ]
    }
   ],
   "source": [
    "for block in page.get_text(\"dict\", textpage=full_tp)[\"blocks\"]:\n",
    "    for line in block[\"lines\"]:\n",
    "        for span in line[\"spans\"]:\n",
    "            bbox = fitz.Rect(span[\"bbox\"]).irect  # just to make it short in the display\n",
    "            print( span[\"font\"], bbox, span[\"text\"])"
   ]
  },
  {
   "cell_type": "markdown",
   "metadata": {},
   "source": [
    "\n",
    "Let's see what a **_partial OCR_** can do for us:"
   ]
  },
  {
   "cell_type": "code",
   "execution_count": 18,
   "metadata": {},
   "outputs": [
    {
     "name": "stdout",
     "output_type": "stream",
     "text": [
      "PyMuPDF Documentation\n",
      "Release 1.19.0\n",
      "Jorj X. McKie\n",
      "Oct 17, 2021\n",
      "=\n",
      "PDF\n",
      "PyMuPDF — the Python\n",
      "bindings for MuPDF\n",
      "Some text as line\n",
      "1.\n",
      "Some more text as line 2.\n",
      "\n"
     ]
    }
   ],
   "source": [
    "partial_tp = page.get_textpage_ocr(flags=0, full=False)\n",
    "# look at the result also here\n",
    "print(page.get_text(textpage=partial_tp))"
   ]
  },
  {
   "cell_type": "markdown",
   "metadata": {},
   "source": [
    "This is very much better ... and also faster.\n",
    "\n",
    "Please note that the partial OCR `TextPage` stores its text in the following sequence:\n",
    "1. Normal text\n",
    "2. Image OCR text in the same sequence as the page displays those images\n",
    "\n",
    "Looking again at span details:"
   ]
  },
  {
   "cell_type": "code",
   "execution_count": 19,
   "metadata": {},
   "outputs": [
    {
     "name": "stdout",
     "output_type": "stream",
     "text": [
      "NimbusSanL-Bold IRect(237, 342, 541, 374) PyMuPDF Documentation\n",
      "NimbusSanL-BoldItal IRect(422, 377, 541, 400) Release 1.19.0\n",
      "NimbusSanL-Bold IRect(431, 474, 541, 497) Jorj X. McKie\n",
      "NimbusSanL-Bold IRect(470, 639, 541, 655) Oct 17, 2021\n",
      "GlyphLessFont IRect(284, 189, 297, 202) =\n",
      "GlyphLessFont IRect(222, 188, 297, 221) PDF\n",
      "GlyphLessFont IRect(282, 273, 390, 298) PyMuPDF\n",
      "GlyphLessFont IRect(389, 273, 411, 298)  —\n",
      "GlyphLessFont IRect(410, 273, 453, 298)  the\n",
      "GlyphLessFont IRect(452, 273, 539, 298)  Python\n",
      "GlyphLessFont IRect(301, 305, 394, 331) bindings\n",
      "GlyphLessFont IRect(393, 305, 433, 331)  for\n",
      "GlyphLessFont IRect(432, 305, 521, 331)  MuPDF\n",
      "GlyphLessFont IRect(283, 302, 307, 310) Some\n",
      "GlyphLessFont IRect(306, 302, 326, 310)  text\n",
      "GlyphLessFont IRect(325, 302, 339, 310)  as\n",
      "GlyphLessFont IRect(338, 302, 356, 310)  line\n",
      "GlyphLessFont IRect(360, 302, 363, 310) 1.\n",
      "GlyphLessFont IRect(283, 320, 307, 328) Some\n",
      "GlyphLessFont IRect(306, 320, 333, 328)  more\n",
      "GlyphLessFont IRect(332, 320, 350, 328)  text\n",
      "GlyphLessFont IRect(349, 320, 363, 328)  as\n",
      "GlyphLessFont IRect(362, 320, 381, 328)  line\n",
      "GlyphLessFont IRect(380, 320, 389, 328)  2.\n"
     ]
    }
   ],
   "source": [
    "for block in page.get_text(\"dict\", textpage=partial_tp)[\"blocks\"]:\n",
    "    for line in block[\"lines\"]:\n",
    "        for span in line[\"spans\"]:\n",
    "            bbox = fitz.Rect(span[\"bbox\"]).irect  # just to make it short\n",
    "            print( span[\"font\"], bbox, span[\"text\"])"
   ]
  },
  {
   "cell_type": "markdown",
   "metadata": {},
   "source": [
    "As mentioned, the normal text is contained in the textpage as without OCR: with its own font, fontsize, position information, etc. Whereas OCRed text appears with Tesseract's `GlyphLessFont`.\n",
    "\n",
    "To process the text of partial OCR output, it will definitely make a lot of sense to sort it in some reading order, for example:"
   ]
  },
  {
   "cell_type": "code",
   "execution_count": 20,
   "metadata": {},
   "outputs": [
    {
     "name": "stdout",
     "output_type": "stream",
     "text": [
      "= PDF \n",
      "Some text as line 1. \n",
      "Some more text as line 2. \n",
      "PyMuPDF — the Python bindings for MuPDF \n",
      "PyMuPDF Documentation \n",
      "Release 1.19.0 \n",
      "Jorj X. McKie \n",
      "Oct 17, 2021 \n"
     ]
    }
   ],
   "source": [
    "blocks = page.get_text(\"blocks\", textpage=partial_tp)\n",
    "blocks.sort(key=lambda b: (b[3], b[0]))  # sort vertical, then horizontal\n",
    "for b in blocks:\n",
    "    print(b[4].replace(\"\\n\", \" \"))  # suppress pesky line breaks"
   ]
  },
  {
   "cell_type": "markdown",
   "metadata": {},
   "source": [
    "Now the first 4 lines represent the OCR text, the last for the normal text. All text appears - even when covered by other objects."
   ]
  },
  {
   "cell_type": "markdown",
   "metadata": {},
   "source": [
    "## Performance\n",
    "I mentioned in the beginning, that the OCR work is done during `TextPage` creation. Already without OCR, textpage creation is the most time consuming part of text processing.\n",
    "\n",
    "Creating OCR textpages may easily take 100 to several thousand times longer. It therefore by all means should happen only once per document page.\n",
    "\n",
    "The new `textpage` parameter in all text processing methods allows referring to an existing textpage and will suppress creating another one.\n",
    "\n",
    "Here are some performance comparisons for our example page:"
   ]
  },
  {
   "cell_type": "code",
   "execution_count": 21,
   "metadata": {},
   "outputs": [
    {
     "name": "stdout",
     "output_type": "stream",
     "text": [
      "91.6 µs ± 597 ns per loop (mean ± std. dev. of 7 runs, 10000 loops each)\n"
     ]
    }
   ],
   "source": [
    "# normal text extraction - no OCR\n",
    "%timeit page.get_textpage(flags=0)  # suppress image extraction"
   ]
  },
  {
   "cell_type": "code",
   "execution_count": 22,
   "metadata": {},
   "outputs": [
    {
     "name": "stdout",
     "output_type": "stream",
     "text": [
      "341 ms ± 6.23 ms per loop (mean ± std. dev. of 7 runs, 1 loop each)\n"
     ]
    }
   ],
   "source": [
    "# full page OCR\n",
    "%timeit page.get_textpage_ocr(flags=0, full=True, dpi=300)"
   ]
  },
  {
   "cell_type": "code",
   "execution_count": 23,
   "metadata": {},
   "outputs": [
    {
     "name": "stdout",
     "output_type": "stream",
     "text": [
      "242 ms ± 5.35 ms per loop (mean ± std. dev. of 7 runs, 1 loop each)\n"
     ]
    }
   ],
   "source": [
    "# partial OCR\n",
    "%timeit page.get_textpage_ocr(flags=0, full=False)"
   ]
  },
  {
   "cell_type": "markdown",
   "metadata": {},
   "source": [
    "The above numbers illustrate how costly OCR textpage are:\n",
    "* full OCR in our case to 3400 times longer\n",
    "* partial OCR still took 2400 time longer.\n",
    "\n",
    "Whereas text processing using a **previously generated** textpage is not significantly dependent on whether or not it uses an OCR textpage:"
   ]
  },
  {
   "cell_type": "code",
   "execution_count": 24,
   "metadata": {},
   "outputs": [
    {
     "name": "stdout",
     "output_type": "stream",
     "text": [
      "6.49 µs ± 463 ns per loop (mean ± std. dev. of 7 runs, 100000 loops each)\n"
     ]
    }
   ],
   "source": [
    "# normal textpage\n",
    "normal_tp = page.get_textpage(flags=0)\n",
    "%timeit page.get_text(textpage=normal_tp)"
   ]
  },
  {
   "cell_type": "code",
   "execution_count": 25,
   "metadata": {},
   "outputs": [
    {
     "name": "stdout",
     "output_type": "stream",
     "text": [
      "6.7 µs ± 434 ns per loop (mean ± std. dev. of 7 runs, 100000 loops each)\n"
     ]
    }
   ],
   "source": [
    "# using full page OCR\n",
    "%timeit page.get_text(textpage=full_tp)"
   ]
  },
  {
   "cell_type": "code",
   "execution_count": 26,
   "metadata": {},
   "outputs": [
    {
     "name": "stdout",
     "output_type": "stream",
     "text": [
      "7.63 µs ± 282 ns per loop (mean ± std. dev. of 7 runs, 100000 loops each)\n"
     ]
    }
   ],
   "source": [
    "# using partial page OCR\n",
    "%timeit page.get_text(textpage=partial_tp)"
   ]
  }
 ],
 "metadata": {
  "interpreter": {
   "hash": "dacf40ba69c4e52f13991c9802a7e3e4c13661a31627ca571217c8b5d093ad33"
  },
  "kernelspec": {
   "display_name": "Python 3.9.6 64-bit",
   "name": "python3"
  },
  "language_info": {
   "codemirror_mode": {
    "name": "ipython",
    "version": 3
   },
   "file_extension": ".py",
   "mimetype": "text/x-python",
   "name": "python",
   "nbconvert_exporter": "python",
   "pygments_lexer": "ipython3",
   "version": "3.9.6"
  },
  "orig_nbformat": 4
 },
 "nbformat": 4,
 "nbformat_minor": 2
}
