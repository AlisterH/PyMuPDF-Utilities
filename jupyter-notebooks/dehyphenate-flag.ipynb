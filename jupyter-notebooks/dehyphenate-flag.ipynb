{
 "cells": [
  {
   "cell_type": "markdown",
   "metadata": {},
   "source": [
    "# Demonstrate the Effect of the MuPDF Dehyphenation Flag\n",
    "We will demonstrate here the impact of MuPDF's `TEXT_DEHYPHENATE` flag on extracted text and computed text boundary boxes.\n",
    "\n",
    "First we import PyMuPDF and make a memory PDF with some hyphenated text."
   ]
  },
  {
   "cell_type": "code",
   "execution_count": 83,
   "metadata": {},
   "outputs": [],
   "source": [
    "import fitz\n",
    "text = (\n",
    "    \"This is a longer text with hyphena-\\n\"\n",
    "    \"ted words. It will be extracted using\\n\"\n",
    "    \"different flags.\\n\"\n",
    "    \"This will show, how bit settings influ-\\n\"\n",
    "    \"ence text bbox computations.\"\n",
    ")\n",
    "\n",
    "doc = fitz.open()\n",
    "page = doc.new_page()\n",
    "rect = page.rect + (72, 72, -72, -72)  # move text away from the borders\n",
    "page.insert_textbox(rect, text, fontsize=24)\n",
    "pdfbytes = doc.tobytes()  # save this PDF to memory\n",
    "\n",
    "# recycle as memory PDF\n",
    "doc = fitz.open(\"pdf\", pdfbytes)\n",
    "\n",
    "# we now have a PDF to play with\n",
    "page = doc[0]"
   ]
  },
  {
   "cell_type": "markdown",
   "metadata": {},
   "source": [
    "First we do a simple extraction, using no special options. Under normal conditions, this should reproduce the text as shown in the file:"
   ]
  },
  {
   "cell_type": "code",
   "execution_count": 84,
   "metadata": {},
   "outputs": [
    {
     "name": "stdout",
     "output_type": "stream",
     "text": [
      "This is a longer text with hyphena-\n",
      "ted words. It will be extracted using\n",
      "different flags.\n",
      "This will show, how bit settings influ-\n",
      "ence text bbox computations.\n",
      "\n"
     ]
    }
   ],
   "source": [
    "# using no special flags\n",
    "print(page.get_text(\"text\", flags=0))"
   ]
  },
  {
   "cell_type": "markdown",
   "metadata": {},
   "source": [
    "Now extract using the dehyphenation option."
   ]
  },
  {
   "cell_type": "code",
   "execution_count": 85,
   "metadata": {},
   "outputs": [
    {
     "name": "stdout",
     "output_type": "stream",
     "text": [
      "This is a longer text with hyphenated words. It will be extracted using\n",
      "different flags.\n",
      "This will show, how bit settings influence text bbox computations.\n",
      "\n"
     ]
    }
   ],
   "source": [
    "# using the dehyphenation flag\n",
    "print(page.get_text(\"text\", flags=fitz.TEXT_DEHYPHENATE))"
   ]
  },
  {
   "cell_type": "markdown",
   "metadata": {},
   "source": [
    "We see that this time any two consecutive lines have been joined, where the first line ends with a hyphen. As part of this, the hyphen character is removed.\n",
    "\n",
    "We now investigate the influence on text boundary boxes."
   ]
  },
  {
   "cell_type": "code",
   "execution_count": 86,
   "metadata": {},
   "outputs": [
    {
     "name": "stdout",
     "output_type": "stream",
     "text": [
      "Rect(72.0, 71.99998474121094, 457.4399719238281, 246.77297973632812)\n",
      "This is a longer text with hyphena-\n",
      "ted words. It will be extracted using\n",
      "different flags.\n",
      "This will show, how bit settings influ-\n",
      "ence text bbox computations.\n",
      "\n"
     ]
    }
   ],
   "source": [
    "# using no special flags\n",
    "for block in page.get_text(\"blocks\", flags=0):\n",
    "    bbox1 = fitz.Rect(block[:4])  # the block bbox\n",
    "    print(bbox1)\n",
    "    print(block[4])  # the block text"
   ]
  },
  {
   "cell_type": "code",
   "execution_count": 87,
   "metadata": {},
   "outputs": [
    {
     "name": "stdout",
     "output_type": "stream",
     "text": [
      "Rect(72.0, 71.99998474121094, 449.4479675292969, 246.77297973632812)\n",
      "This is a longer text with hyphenated words. It will be extracted using\n",
      "different flags.\n",
      "This will show, how bit settings influence text bbox computations.\n",
      "\n"
     ]
    }
   ],
   "source": [
    "# using the dehyphenation flag\n",
    "for block in page.get_text(\"blocks\", flags=fitz.TEXT_DEHYPHENATE):\n",
    "    bbox2 = fitz.Rect(block[:4])  # the block bbox\n",
    "    print(bbox2)\n",
    "    print(block[4])  # the block text"
   ]
  },
  {
   "cell_type": "markdown",
   "metadata": {},
   "source": [
    "The **\"blocks\"** outputs each time show the same results as with simple text extraction. Now we look at the two bboxes:"
   ]
  },
  {
   "cell_type": "code",
   "execution_count": 88,
   "metadata": {},
   "outputs": [
    {
     "data": {
      "text/plain": [
       "Rect(0.0, 0.0, 7.99200439453125, 0.0)"
      ]
     },
     "execution_count": 88,
     "metadata": {},
     "output_type": "execute_result"
    }
   ],
   "source": [
    "bbox1 - bbox2  # compute coordinate differences"
   ]
  },
  {
   "cell_type": "markdown",
   "metadata": {},
   "source": [
    "The \"dehyphenated\" bbox **may have a smaller width**, because hyphens at line ends are now ignored!\n",
    "Let us make a picture to see what caused the difference in our case."
   ]
  },
  {
   "cell_type": "code",
   "execution_count": 89,
   "metadata": {},
   "outputs": [],
   "source": [
    "page.draw_rect(bbox1, color=(0,0,1), width=2)  # standard flags settings in blue\n",
    "page.draw_rect(bbox2, color=(1,0,0), width=0.3)  # dehyphenated in red\n",
    "pix = page.get_pixmap()\n",
    "from PIL import Image\n",
    "img = Image.frombytes(\"RGB\", (pix.width, pix.height), pix.samples)\n",
    "img.show()\n"
   ]
  }
 ],
 "metadata": {
  "interpreter": {
   "hash": "dacf40ba69c4e52f13991c9802a7e3e4c13661a31627ca571217c8b5d093ad33"
  },
  "kernelspec": {
   "display_name": "Python 3.9.6 64-bit",
   "name": "python3"
  },
  "language_info": {
   "codemirror_mode": {
    "name": "ipython",
    "version": 3
   },
   "file_extension": ".py",
   "mimetype": "text/x-python",
   "name": "python",
   "nbconvert_exporter": "python",
   "pygments_lexer": "ipython3",
   "version": "3.9.6"
  },
  "orig_nbformat": 4
 },
 "nbformat": 4,
 "nbformat_minor": 2
}
