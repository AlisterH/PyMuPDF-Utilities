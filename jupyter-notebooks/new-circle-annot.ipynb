{
 "cells": [
  {
   "cell_type": "markdown",
   "id": "lightweight-angola",
   "metadata": {},
   "source": [
    "# PyMuPDF: This Notebook creates a PDF from scratch and inserts an annotation"
   ]
  },
  {
   "cell_type": "code",
   "execution_count": null,
   "id": "elder-trash",
   "metadata": {},
   "outputs": [],
   "source": [
    "from PIL import Image  # we use Pillow for intermediate images\n",
    "from pprint import pprint\n",
    "import fitz  # import PyMuPDF\n",
    "print(fitz.__doc__)  # confirm our configuration"
   ]
  },
  {
   "cell_type": "markdown",
   "id": "improved-dylan",
   "metadata": {},
   "source": [
    "Create a new PDF with a new empty page."
   ]
  },
  {
   "cell_type": "code",
   "execution_count": null,
   "id": "engaged-ministry",
   "metadata": {},
   "outputs": [],
   "source": [
    "doc = fitz.open()\n",
    "page = doc.new_page()"
   ]
  },
  {
   "cell_type": "markdown",
   "id": "varied-benchmark",
   "metadata": {},
   "source": [
    "Define some rectangle. Like all \"geometry\" objects, a rectangle is not bound to a document or page."
   ]
  },
  {
   "cell_type": "code",
   "execution_count": null,
   "id": "enabling-letters",
   "metadata": {},
   "outputs": [],
   "source": [
    "rect = fitz.Rect(100, 100, 300, 200)"
   ]
  },
  {
   "cell_type": "markdown",
   "id": "sexual-score",
   "metadata": {},
   "source": [
    "We now make a 'Circle' (ellipse) annotation."
   ]
  },
  {
   "cell_type": "code",
   "execution_count": null,
   "id": "sized-dealing",
   "metadata": {},
   "outputs": [],
   "source": [
    "annot = page.add_circle_annot(rect)"
   ]
  },
  {
   "cell_type": "markdown",
   "id": "double-cambridge",
   "metadata": {},
   "source": [
    "The result is an **_actual circle_** only if `rect.width == rect.height`, otherwise an ellipse. In our case, the result will be an ellipse. Here are some basic annotation information."
   ]
  },
  {
   "cell_type": "code",
   "execution_count": null,
   "id": "external-suffering",
   "metadata": {},
   "outputs": [],
   "source": [
    "pprint((annot, annot.type, annot.info))"
   ]
  },
  {
   "cell_type": "markdown",
   "id": "dimensional-privilege",
   "metadata": {},
   "source": [
    "The standard colors for **'Circle'** annotations (and some others) are **black** for the border ('stroke') and **none** (empty) for the interior ('fill')."
   ]
  },
  {
   "cell_type": "code",
   "execution_count": null,
   "id": "interracial-thailand",
   "metadata": {},
   "outputs": [],
   "source": [
    "pprint(annot.colors)"
   ]
  },
  {
   "cell_type": "markdown",
   "id": "simple-printing",
   "metadata": {},
   "source": [
    "Let's not be boring and give our annotation a **red** border and a **yellow** interior:"
   ]
  },
  {
   "cell_type": "code",
   "execution_count": null,
   "id": "accepting-walnut",
   "metadata": {},
   "outputs": [],
   "source": [
    "annot.set_colors(stroke=(1, 0, 0), fill=(1, 1, 0))"
   ]
  },
  {
   "cell_type": "markdown",
   "id": "variable-illustration",
   "metadata": {},
   "source": [
    "Almost all changes to an annotation's appearance require invoking its `update()` method to activate them. This is needed only once - after all desired changes have been made."
   ]
  },
  {
   "cell_type": "code",
   "execution_count": null,
   "id": "greek-definition",
   "metadata": {},
   "outputs": [],
   "source": [
    "annot.update()"
   ]
  },
  {
   "cell_type": "markdown",
   "id": "uniform-tooth",
   "metadata": {},
   "source": [
    "We now create an image of the annotation by first making a Pixmap and then a Pillow image from it."
   ]
  },
  {
   "cell_type": "code",
   "execution_count": null,
   "id": "chemical-airfare",
   "metadata": {},
   "outputs": [],
   "source": [
    "pix = annot.get_pixmap()"
   ]
  },
  {
   "cell_type": "code",
   "execution_count": null,
   "id": "determined-service",
   "metadata": {},
   "outputs": [],
   "source": [
    "repr(pix)"
   ]
  },
  {
   "cell_type": "code",
   "execution_count": null,
   "id": "flexible-picking",
   "metadata": {},
   "outputs": [],
   "source": [
    "img = Image.frombytes(\"RGB\", (pix.width, pix.height), pix.samples)"
   ]
  },
  {
   "cell_type": "markdown",
   "id": "lovely-grocery",
   "metadata": {},
   "source": [
    "Here is how the annotation looks like when you use `img.show()` on your system. You can also save it to an image file via `pix.save(\"annot.png\")`."
   ]
  },
  {
   "cell_type": "code",
   "execution_count": null,
   "metadata": {},
   "outputs": [],
   "source": [
    "img.show()"
   ]
  },
  {
   "cell_type": "code",
   "execution_count": null,
   "id": "defensive-volleyball",
   "metadata": {},
   "outputs": [],
   "source": [
    "pix = page.get_pixmap()"
   ]
  },
  {
   "cell_type": "code",
   "execution_count": null,
   "id": "chief-folder",
   "metadata": {},
   "outputs": [],
   "source": [
    "img = Image.frombytes(\"RGB\", (pix.width, pix.height), pix.samples)"
   ]
  },
  {
   "cell_type": "markdown",
   "id": "rubber-banner",
   "metadata": {},
   "source": [
    "And here the image of the **full page**, showing the annotation's location on it:"
   ]
  },
  {
   "cell_type": "code",
   "execution_count": null,
   "metadata": {},
   "outputs": [],
   "source": [
    "img.show()"
   ]
  }
 ],
 "metadata": {
  "interpreter": {
   "hash": "dacf40ba69c4e52f13991c9802a7e3e4c13661a31627ca571217c8b5d093ad33"
  },
  "kernelspec": {
   "display_name": "Python 3.9.6 64-bit",
   "name": "python3"
  },
  "language_info": {
   "codemirror_mode": {
    "name": "ipython",
    "version": 3
   },
   "file_extension": ".py",
   "mimetype": "text/x-python",
   "name": "python",
   "nbconvert_exporter": "python",
   "pygments_lexer": "ipython3",
   "version": "3.9.6"
  }
 },
 "nbformat": 4,
 "nbformat_minor": 5
}
