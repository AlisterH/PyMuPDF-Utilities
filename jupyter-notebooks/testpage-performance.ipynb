{
 "cells": [
  {
   "cell_type": "markdown",
   "metadata": {},
   "source": [
    "# Speedcheck: Show performance differences using separate TextPage objects\n",
    "With its v1.19.0, PyMuPDF has added a new parameter `textpage` to text extraction and text search methods. This allows reuse and sharing of the same TextPage object.\n",
    "\n",
    "## Background\n",
    "All text searches and extractions in PyMuPDF under the hood work in 2 steps:\n",
    "\n",
    "1. Step 1 creates a \"TextPage\" object, which parses the document page and extracts its content based on a number of flags (which control whether e.g. images should also be included in the results). Execution time of this step is **always longer** than that of the second step.\n",
    "2. Step 2 walks through the **TextPage's content** and generates the requested output (simple text, HTML, search result rectangles, etc). When finished, the textpage is destroyed again.\n",
    "\n",
    "> MuPDF's major motivation to entertain the object type \"TextPage\" was to abstract from the filetype a certain document happens to have: only the logic for creating a textpage is different between a PDF, XPS, HTML or whatever document: the application-side logic to create the desired result is not impacted by the document type.\n",
    "\n",
    "To provide an intuitively simple, easy-to-use API, PyMuPDF does not bother the programmer with these details: every text search or text extraction looks the same for all document types and hence creates and deletes a TextPage every time.\n",
    "\n",
    "However, Optical Character Recognition also happens inside TextPage creation and, because this may entail a significant execution time, it now does make sense to offer a way to reuse a TextPage and avoid multiple, potentially expensive creations.\n",
    "\n",
    "While the main motivation was OCR, reusing a TextPage object is now **always** possible. It is not bound to OCR in any way.\n",
    "\n",
    "## Demonstrations\n",
    "\n",
    "The following snippets demonstrate the very significant performance gains in cases where you perform multiple text searches and / or extractions with the same page."
   ]
  },
  {
   "cell_type": "code",
   "execution_count": 1,
   "metadata": {},
   "outputs": [],
   "source": [
    "import fitz\n",
    "\n",
    "if tuple(map(int, fitz.VersionBind.split(\".\"))) < (1,19,0):\n",
    "    raise RuntimeError(\"Need PyMuPDF v1.19.0 or higher\")\n",
    "\n",
    "doc = fitz.open(\"1page.pdf\")\n",
    "page = doc[0]"
   ]
  },
  {
   "cell_type": "markdown",
   "metadata": {},
   "source": [
    "First execute with a new TextPage created every time:"
   ]
  },
  {
   "cell_type": "code",
   "execution_count": 2,
   "metadata": {},
   "outputs": [
    {
     "name": "stdout",
     "output_type": "stream",
     "text": [
      "2.44 ms ± 106 µs per loop (mean ± std. dev. of 7 runs, 100 loops each)\n",
      "2.83 ms ± 269 µs per loop (mean ± std. dev. of 7 runs, 100 loops each)\n",
      "2.3 ms ± 75 µs per loop (mean ± std. dev. of 7 runs, 100 loops each)\n",
      "2.64 ms ± 40.8 µs per loop (mean ± std. dev. of 7 runs, 100 loops each)\n",
      "4.2 ms ± 53.8 µs per loop (mean ± std. dev. of 7 runs, 100 loops each)\n"
     ]
    }
   ],
   "source": [
    "%timeit page.get_text(\"text\")\n",
    "%timeit page.get_text(\"words\")\n",
    "%timeit page.get_text(\"blocks\")\n",
    "%timeit page.get_text(\"dict\")\n",
    "%timeit page.get_text(\"rawdict\")"
   ]
  },
  {
   "cell_type": "markdown",
   "metadata": {},
   "source": [
    "The following shows, that TextPage creation **_always_** is the longest part of any text extraction response time."
   ]
  },
  {
   "cell_type": "code",
   "execution_count": 3,
   "metadata": {},
   "outputs": [
    {
     "name": "stdout",
     "output_type": "stream",
     "text": [
      "2.12 ms ± 81.3 µs per loop (mean ± std. dev. of 7 runs, 100 loops each)\n"
     ]
    }
   ],
   "source": [
    "%timeit page.get_textpage()"
   ]
  },
  {
   "cell_type": "markdown",
   "metadata": {},
   "source": [
    "Compare the following text extraction response times, where an **_existing TextPage is reused_**, with the corresponding durations above. You should see execution times reduced by 50% to 95%.\n",
    "\n",
    "So if performance is a concern, reuse a predefined Textpage."
   ]
  },
  {
   "cell_type": "code",
   "execution_count": 4,
   "metadata": {},
   "outputs": [
    {
     "name": "stdout",
     "output_type": "stream",
     "text": [
      "81.2 µs ± 3.49 µs per loop (mean ± std. dev. of 7 runs, 10000 loops each)\n",
      "252 µs ± 6.93 µs per loop (mean ± std. dev. of 7 runs, 1000 loops each)\n",
      "105 µs ± 1.05 µs per loop (mean ± std. dev. of 7 runs, 10000 loops each)\n",
      "410 µs ± 16.6 µs per loop (mean ± std. dev. of 7 runs, 1000 loops each)\n",
      "1.75 ms ± 107 µs per loop (mean ± std. dev. of 7 runs, 1000 loops each)\n"
     ]
    }
   ],
   "source": [
    "tp = page.get_textpage()\n",
    "%timeit page.get_text(\"text\", textpage=tp)  # -95%\n",
    "%timeit page.get_text(\"words\", textpage=tp)  # -90%\n",
    "%timeit page.get_text(\"blocks\", textpage=tp)  # -95%\n",
    "%timeit page.get_text(\"dict\", textpage=tp)  # -85%\n",
    "%timeit page.get_text(\"rawdict\", textpage=tp)  # -60%"
   ]
  },
  {
   "cell_type": "markdown",
   "metadata": {},
   "source": [
    "## Realistic Use Cases\n",
    "The following represent typical examples for creating the same TextPage mutliple times - which therefore will benefit a lot from avoiding this.\n",
    "\n",
    "We search for some word on a page and then validate each occurrence (e.g. spelling or upper / lower case differences)."
   ]
  },
  {
   "cell_type": "code",
   "execution_count": 5,
   "metadata": {},
   "outputs": [],
   "source": [
    "def search1():\n",
    "    \"\"\"Search for a word, then check each hit rectangle.\n",
    "    Do not reuse intermediate TextPages.\"\"\"\n",
    "    rl = page.search_for(\"pixmap\")\n",
    "    for r in rl:\n",
    "        text = page.get_textbox(r)\n",
    "\n",
    "def search2():\n",
    "    \"\"\"Search for a word, then check each hit rectangle.\n",
    "    Reuse a previously created TextPage.\"\"\"\n",
    "    rl = page.search_for(\"pixmap\", textpage=tp)\n",
    "    for r in rl:\n",
    "        text = page.get_textbox(r, textpage=tp)"
   ]
  },
  {
   "cell_type": "code",
   "execution_count": 6,
   "metadata": {},
   "outputs": [
    {
     "name": "stdout",
     "output_type": "stream",
     "text": [
      "29.4 ms ± 803 µs per loop (mean ± std. dev. of 7 runs, 10 loops each)\n"
     ]
    }
   ],
   "source": [
    "%timeit search1()"
   ]
  },
  {
   "cell_type": "code",
   "execution_count": 7,
   "metadata": {},
   "outputs": [
    {
     "name": "stdout",
     "output_type": "stream",
     "text": [
      "1.05 ms ± 74.7 µs per loop (mean ± std. dev. of 7 runs, 1000 loops each)\n"
     ]
    }
   ],
   "source": [
    "%timeit search2()"
   ]
  },
  {
   "cell_type": "markdown",
   "metadata": {},
   "source": [
    "Again, reusing an existing TextPage has saved us more than 95% of the execution time."
   ]
  }
 ],
 "metadata": {
  "interpreter": {
   "hash": "dacf40ba69c4e52f13991c9802a7e3e4c13661a31627ca571217c8b5d093ad33"
  },
  "kernelspec": {
   "display_name": "Python 3.9.6 64-bit",
   "name": "python3"
  },
  "language_info": {
   "codemirror_mode": {
    "name": "ipython",
    "version": 3
   },
   "file_extension": ".py",
   "mimetype": "text/x-python",
   "name": "python",
   "nbconvert_exporter": "python",
   "pygments_lexer": "ipython3",
   "version": "3.9.6"
  },
  "orig_nbformat": 4
 },
 "nbformat": 4,
 "nbformat_minor": 2
}
