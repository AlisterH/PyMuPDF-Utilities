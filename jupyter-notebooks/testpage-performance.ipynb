{
 "cells": [
  {
   "cell_type": "markdown",
   "metadata": {},
   "source": [
    "# Speedcheck: Show performance differences using separate TextPage objects"
   ]
  },
  {
   "cell_type": "code",
   "execution_count": 18,
   "metadata": {},
   "outputs": [],
   "source": [
    "import fitz\n",
    "\n",
    "if tuple(map(int, fitz.VersionBind.split(\".\"))) < (1,19,0):\n",
    "    raise RuntimeError(\"Need PyMuPDF v1.19.0 or higher\")\n",
    "\n",
    "doc = fitz.open(\"1page.pdf\")\n",
    "page = doc[0]"
   ]
  },
  {
   "cell_type": "code",
   "execution_count": 19,
   "metadata": {},
   "outputs": [
    {
     "name": "stdout",
     "output_type": "stream",
     "text": [
      "2.17 ms ± 50.5 µs per loop (mean ± std. dev. of 7 runs, 100 loops each)\n",
      "2.38 ms ± 125 µs per loop (mean ± std. dev. of 7 runs, 100 loops each)\n",
      "2.19 ms ± 84.3 µs per loop (mean ± std. dev. of 7 runs, 100 loops each)\n",
      "2.56 ms ± 93.5 µs per loop (mean ± std. dev. of 7 runs, 100 loops each)\n",
      "4.09 ms ± 193 µs per loop (mean ± std. dev. of 7 runs, 100 loops each)\n"
     ]
    }
   ],
   "source": [
    "%timeit page.get_text(\"text\")\n",
    "%timeit page.get_text(\"words\")\n",
    "%timeit page.get_text(\"blocks\")\n",
    "%timeit page.get_text(\"dict\")\n",
    "%timeit page.get_text(\"rawdict\")"
   ]
  },
  {
   "cell_type": "markdown",
   "metadata": {},
   "source": [
    "The following shows, that TextPage creation **_always_** is the longest part of any text extraction response time."
   ]
  },
  {
   "cell_type": "code",
   "execution_count": 20,
   "metadata": {},
   "outputs": [
    {
     "name": "stdout",
     "output_type": "stream",
     "text": [
      "2.08 ms ± 136 µs per loop (mean ± std. dev. of 7 runs, 100 loops each)\n"
     ]
    }
   ],
   "source": [
    "%timeit page.get_textpage()"
   ]
  },
  {
   "cell_type": "markdown",
   "metadata": {},
   "source": [
    "Compare the following text extraction response times, where an existing TextPage is reused, with the corresponding durations above. You should see execution times reduced by 50% to 95%.\n",
    "\n",
    "So whenever you see a chance, reuse a predefined Textpage if text extraction performance is a concern."
   ]
  },
  {
   "cell_type": "code",
   "execution_count": 21,
   "metadata": {},
   "outputs": [
    {
     "name": "stdout",
     "output_type": "stream",
     "text": [
      "64.7 µs ± 2.48 µs per loop (mean ± std. dev. of 7 runs, 10000 loops each)\n",
      "238 µs ± 4.63 µs per loop (mean ± std. dev. of 7 runs, 10000 loops each)\n",
      "97.1 µs ± 1.05 µs per loop (mean ± std. dev. of 7 runs, 10000 loops each)\n",
      "370 µs ± 3.49 µs per loop (mean ± std. dev. of 7 runs, 1000 loops each)\n",
      "1.56 ms ± 6.03 µs per loop (mean ± std. dev. of 7 runs, 1000 loops each)\n"
     ]
    }
   ],
   "source": [
    "tp = page.get_textpage()\n",
    "%timeit page.get_text(\"text\", textpage=tp)  # -95%\n",
    "%timeit page.get_text(\"words\", textpage=tp)  # -90%\n",
    "%timeit page.get_text(\"blocks\", textpage=tp)  # -95%\n",
    "%timeit page.get_text(\"dict\", textpage=tp)  # -85%\n",
    "%timeit page.get_text(\"rawdict\", textpage=tp)  # -60%"
   ]
  }
 ],
 "metadata": {
  "interpreter": {
   "hash": "dacf40ba69c4e52f13991c9802a7e3e4c13661a31627ca571217c8b5d093ad33"
  },
  "kernelspec": {
   "display_name": "Python 3.9.6 64-bit",
   "name": "python3"
  },
  "language_info": {
   "codemirror_mode": {
    "name": "ipython",
    "version": 3
   },
   "file_extension": ".py",
   "mimetype": "text/x-python",
   "name": "python",
   "nbconvert_exporter": "python",
   "pygments_lexer": "ipython3",
   "version": "3.9.6"
  },
  "orig_nbformat": 4
 },
 "nbformat": 4,
 "nbformat_minor": 2
}
