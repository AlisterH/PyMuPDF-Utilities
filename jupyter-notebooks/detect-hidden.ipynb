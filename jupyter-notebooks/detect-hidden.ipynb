{
 "cells": [
  {
   "cell_type": "markdown",
   "metadata": {},
   "source": [
    "# Example: Detect Hidden Text\n",
    "With its v1.19.0, PyMuPDF has added a ways to detect whether object cover or hide other objects. For example in a legal context it is especially interesting to know whether there exists text that only **_appears_** to be deleted by some black rectangle - resulting in insufficiently protected personal data. Do have a look at the [this]() project.\n",
    "\n",
    "The following script looks for text on a PDF page that is only hidden by some drawing - as opposed to being truly deleted. The page contains three occurrences of the word \"estate\" covered by black rectangles.\n",
    "\n",
    "There also exist other drawings and text occupying the same space, but in these cases the text is **_above_** the drawings and are therefore accepting as harmless."
   ]
  },
  {
   "cell_type": "code",
   "execution_count": 3,
   "metadata": {},
   "outputs": [
    {
     "name": "stdout",
     "output_type": "stream",
     "text": [
      "Processing file 'blacked.pdf' with 1 pages.\n",
      "\n",
      "Page 0 has 15 solid drawings. Sequence numbers:\n",
      "[26, 27, 30, 33, 34, 37, 40, 41, 44, 47, 48, 51, 169, 171, 173]\n",
      "\n",
      "Drawing 169 covers e, s, t, a, t, e.\n",
      "Drawing 171 covers E, s, t, a, t, e.\n",
      "Drawing 173 covers E, s, t, a, t, e.\n"
     ]
    }
   ],
   "source": [
    "\"\"\"\n",
    "Demo program: find characters covered by drawings.\n",
    "\n",
    "We aim to identify text characters, that are covered by a \"fill\" drawing by\n",
    "at least 80%.\n",
    "This entails the following steps:\n",
    "* make a list of \"significant\" drawings:\n",
    "  - type \"fill\" or \"fill-stroke\"\n",
    "  - large enough\n",
    "  - not transparent\n",
    "* Walk through the characters of text spans (as returned by page\n",
    "  method \"get_texttrace()\") and check whether it intersects a \"later\" drawing.\n",
    "  For each span character, report whether it is significantly covered.\n",
    "\n",
    "Dependencies:\n",
    "PyMuPDF v1.19.0, which introduces sequence numbers for drawings and text spans\n",
    "as returned by methods 'page.get_drawings()' and 'page.get_texttrace()'.\n",
    "\"\"\"\n",
    "import fitz\n",
    "\n",
    "if tuple(map(int, fitz.VersionBind.split(\".\"))) < (1, 19, 0):\n",
    "    raise ValueError(\"requires PyMuPDF v1.19.0 or later\")\n",
    "\n",
    "doc = fitz.open(\"blacked.pdf\")\n",
    "print(\"Processing file '%s' with %i pages.\" % (doc.name, doc.page_count))\n",
    "for page in doc:\n",
    "    print()\n",
    "    # make list of relevant drawing rectangles:\n",
    "    # type \"fill\", large enough, not transparent\n",
    "    seq_paths = [\n",
    "        (p[\"seqno\"], p[\"rect\"].irect)  # just use the IRect: precise enough\n",
    "        for p in page.get_drawings()\n",
    "        if p[\"rect\"].width > 3  # exclude lines\n",
    "        and p[\"rect\"].height > 3  # exclude lines\n",
    "        and p[\"type\"][0] == \"f\"  # only fill or fill-stroke\n",
    "        and p[\"fill_opacity\"] == 1  # not transparent\n",
    "    ]\n",
    "    if seq_paths == []:\n",
    "        print(\"No solid drawings on page %i.\")\n",
    "        continue\n",
    "    print(\n",
    "        \"Page %i has %i solid drawings. Sequence numbers:\"\n",
    "        % (page.number, len(seq_paths))\n",
    "    )\n",
    "    print([s[0] for s in seq_paths])\n",
    "    print()\n",
    "    textspans = page.get_texttrace()  # get the text spans\n",
    "\n",
    "    for span in textspans:\n",
    "        span_seqno = span[\"seqno\"]  # the text painting sequence number\n",
    "        span_rect = fitz.Rect(span[\"bbox\"])\n",
    "        paths = [  # restrict to overlapping drawings occurring \"later\"\n",
    "            p\n",
    "            for p in seq_paths\n",
    "            if p[0] >= span_seqno and not (p[1] & span_rect).is_empty\n",
    "        ]\n",
    "        if paths == []:  # this text span is clean\n",
    "            continue\n",
    "        for seqno, draw_rect in paths:  # this iterates over only 1 item normally\n",
    "            problems = []\n",
    "            for ch in span[\"chars\"]:  # walk through characters in the span\n",
    "                char = chr(ch[0])  # the character\n",
    "                bbox = fitz.Rect(ch[3])  # its bbox\n",
    "                if abs(bbox & draw_rect) >= abs(bbox) * 0.8:\n",
    "                    problems.append(char)\n",
    "            if problems != []:\n",
    "                print(\"Drawing %i covers %s.\" % (seqno, \", \".join(problems)))\n"
   ]
  }
 ],
 "metadata": {
  "interpreter": {
   "hash": "dacf40ba69c4e52f13991c9802a7e3e4c13661a31627ca571217c8b5d093ad33"
  },
  "kernelspec": {
   "display_name": "Python 3.9.6 64-bit",
   "name": "python3"
  },
  "language_info": {
   "codemirror_mode": {
    "name": "ipython",
    "version": 3
   },
   "file_extension": ".py",
   "mimetype": "text/x-python",
   "name": "python",
   "nbconvert_exporter": "python",
   "pygments_lexer": "ipython3",
   "version": "3.9.6"
  },
  "orig_nbformat": 4
 },
 "nbformat": 4,
 "nbformat_minor": 2
}
